{
 "cells": [
  {
   "cell_type": "markdown",
   "id": "135f937c",
   "metadata": {},
   "source": [
    "# Bài học 14: 14 - Lambda, map, filter, reduce"
   ]
  },
  {
   "cell_type": "markdown",
   "id": "d9d8eb8a",
   "metadata": {},
   "source": [
    "## Mục tiêu\n",
    "- Hiểu khái niệm cơ bản\n",
    "- Viết được ví dụ minh hoạ\n",
    "- Làm bài tập thực hành"
   ]
  },
  {
   "cell_type": "code",
   "execution_count": null,
   "id": "aebd8da4",
   "metadata": {},
   "outputs": [],
   "source": [
    "# Viết code Python tại đây"
   ]
  }
 ],
 "metadata": {},
 "nbformat": 4,
 "nbformat_minor": 5
}
