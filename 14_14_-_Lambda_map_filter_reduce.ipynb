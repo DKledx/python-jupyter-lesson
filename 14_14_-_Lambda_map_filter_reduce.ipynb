{
 "cells": [
  {
   "cell_type": "markdown",
   "id": "135f937c",
   "metadata": {},
   "source": [
    "# Bài học 14: 14 - Lambda, map, filter, reduce"
   ]
  },
  {
   "cell_type": "markdown",
   "id": "d9d8eb8a",
   "metadata": {},
   "source": [
    "## Mục tiêu\n",
    "- Hiểu khái niệm cơ bản\n",
    "- Viết được ví dụ minh hoạ\n",
    "- Làm bài tập thực hành"
   ]
  },
  {
   "cell_type": "markdown",
   "id": "6778ca63",
   "metadata": {},
   "source": [
    "# 1. Khái niệm về comprehension\n",
    "# Comprehension là cú pháp rút gọn để tạo list, set, dict từ iterable.\n",
    "\n",
    "# 2. List comprehension\n",
    "lst = [x * x for x in range(5)]\n",
    "print(\"List comprehension:\", lst)\n",
    "\n",
    "# 3. Set comprehension\n",
    "st = {x for x in range(5) if x % 2 == 0}\n",
    "print(\"Set comprehension:\", st)\n",
    "\n",
    "# 4. Dictionary comprehension\n",
    "dct = {x: x * x for x in range(5)}\n",
    "print(\"Dict comprehension:\", dct)\n",
    "\n",
    "# 5. Comprehension với điều kiện\n",
    "lst_chan = [x for x in range(10) if x % 2 == 0]\n",
    "print(\"List số chẵn:\", lst_chan)\n",
    "\n",
    "# 6. Lồng comprehension\n",
    "matran = [[i * j for j in range(3)] for i in range(3)]\n",
    "print(\"Ma trận 3x3:\", matran)\n",
    "\n",
    "# 7. So sánh với vòng lặp thông thường\n",
    "lst2 = []\n",
    "for x in range(5):\n",
    "    lst2.append(x * x)\n",
    "print(\"Vòng lặp thường:\", lst2)\n",
    "\n",
    "# 8. Ứng dụng comprehension với hàm\n",
    "names = [\"an\", \"lan\", \"binh\"]\n",
    "names_upper = [name.upper() for name in names]\n",
    "print(\"Tên in hoa:\", names_upper)\n",
    "\n",
    "# 9. Thực hành: Tạo list các số chia hết cho 3 từ 1 đến 20\n",
    "lst3 = [x for x in range(1, 21) if x % 3 == 0]\n",
    "print(\"Chia hết cho 3:\", lst3)\n",
    "\n",
    "# 10. Thực hành: Đảo ngược key và value của dict\n",
    "d = {\"a\": 1, \"b\": 2, \"c\": 3}\n",
    "d_reverse = {v: k for k, v in d.items()}\n",
    "print(\"Dict đảo ngược:\", d_reverse)"
   ]
  },
  {
   "cell_type": "code",
   "execution_count": 1,
   "id": "aebd8da4",
   "metadata": {},
   "outputs": [
    {
     "name": "stdout",
     "output_type": "stream",
     "text": [
      "Bình phương 5: 25\n",
      "Map x2: [2, 4, 6, 8]\n",
      "Filter chẵn: [2, 4]\n",
      "Reduce tổng: 10\n",
      "Bình phương các số chẵn <10: [0, 4, 16, 36, 64]\n",
      "Hàm thường: 36\n",
      "Lambda: 36\n",
      "Tên dài hơn 3 ký tự: ['Bình', 'Minh']\n",
      "Tổng bình phương số lẻ: 165\n",
      "Đảo ngược chuỗi: ['nohtyp', 'avaj', 'cba']\n"
     ]
    }
   ],
   "source": [
    "# 1. Khái niệm về hàm lambda\n",
    "# Lambda là hàm ẩn danh, dùng cho các thao tác ngắn gọn.\n",
    "\n",
    "# 2. Cách sử dụng lambda\n",
    "binh_phuong = lambda x: x * x\n",
    "print(\"Bình phương 5:\", binh_phuong(5))\n",
    "\n",
    "# 3. Hàm map\n",
    "lst = [1, 2, 3, 4]\n",
    "lst2 = list(map(lambda x: x * 2, lst))\n",
    "print(\"Map x2:\", lst2)\n",
    "\n",
    "# 4. Hàm filter\n",
    "lst3 = list(filter(lambda x: x % 2 == 0, lst))\n",
    "print(\"Filter chẵn:\", lst3)\n",
    "\n",
    "# 5. Hàm reduce\n",
    "from functools import reduce\n",
    "tong = reduce(lambda x, y: x + y, lst)\n",
    "print(\"Reduce tổng:\", tong)\n",
    "\n",
    "# 6. Kết hợp lambda với map, filter, reduce\n",
    "lst4 = list(map(lambda x: x ** 2, filter(lambda x: x % 2 == 0, range(10))))\n",
    "print(\"Bình phương các số chẵn <10:\", lst4)\n",
    "\n",
    "# 7. So sánh lambda với hàm thông thường\n",
    "def bp(x):\n",
    "    return x * x\n",
    "print(\"Hàm thường:\", bp(6))\n",
    "print(\"Lambda:\", (lambda x: x * x)(6))\n",
    "\n",
    "# 8. Ứng dụng thực tế: Lọc tên có độ dài > 3\n",
    "names = [\"An\", \"Lan\", \"Bình\", \"Minh\"]\n",
    "names_long = list(filter(lambda name: len(name) > 3, names))\n",
    "print(\"Tên dài hơn 3 ký tự:\", names_long)\n",
    "\n",
    "# 9. Thực hành: Tính tổng bình phương các số lẻ từ 1 đến 10\n",
    "result = reduce(lambda x, y: x + y, map(lambda x: x * x, filter(lambda x: x % 2 == 1, range(1, 11))))\n",
    "print(\"Tổng bình phương số lẻ:\", result)\n",
    "\n",
    "# 10. Thực hành: Đảo ngược chuỗi trong list dùng map và lambda\n",
    "chuoi = [\"python\", \"java\", \"abc\"]\n",
    "dao_nguoc = list(map(lambda s: s[::-1], chuoi))\n",
    "print(\"Đảo ngược chuỗi:\", dao_nguoc)"
   ]
  }
 ],
 "metadata": {
  "kernelspec": {
   "display_name": "Python 3",
   "language": "python",
   "name": "python3"
  },
  "language_info": {
   "codemirror_mode": {
    "name": "ipython",
    "version": 3
   },
   "file_extension": ".py",
   "mimetype": "text/x-python",
   "name": "python",
   "nbconvert_exporter": "python",
   "pygments_lexer": "ipython3",
   "version": "3.13.3"
  }
 },
 "nbformat": 4,
 "nbformat_minor": 5
}
