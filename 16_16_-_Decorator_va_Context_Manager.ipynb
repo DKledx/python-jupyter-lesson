{
 "cells": [
  {
   "cell_type": "markdown",
   "id": "1d954335",
   "metadata": {},
   "source": [
    "# Bài học 16: 16 - Decorator và Context Manager"
   ]
  },
  {
   "cell_type": "markdown",
   "id": "e4badc09",
   "metadata": {},
   "source": [
    "## Mục tiêu\n",
    "- Hiểu khái niệm cơ bản\n",
    "- Viết được ví dụ minh hoạ\n",
    "- Làm bài tập thực hành"
   ]
  },
  {
   "cell_type": "code",
   "execution_count": null,
   "id": "5049c0a6",
   "metadata": {},
   "outputs": [],
   "source": [
    "# Viết code Python tại đây"
   ]
  }
 ],
 "metadata": {},
 "nbformat": 4,
 "nbformat_minor": 5
}
