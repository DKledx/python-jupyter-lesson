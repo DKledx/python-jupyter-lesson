{
 "cells": [
  {
   "cell_type": "markdown",
   "id": "8de70084",
   "metadata": {},
   "source": [
    "# Bài học 1: 1 - Biến và Kiểu dữ liệu cơ bản"
   ]
  },
  {
   "cell_type": "markdown",
   "id": "80c155c1",
   "metadata": {},
   "source": [
    "## Mục tiêu\n",
    "- Hiểu khái niệm cơ bản\n",
    "- Viết được ví dụ minh hoạ\n",
    "- Làm bài tập thực hành"
   ]
  },
  {
   "cell_type": "markdown",
   "id": "887d9d7a",
   "metadata": {
    "vscode": {
     "languageId": "ini"
    }
   },
   "source": [
    "## Hướng dẫn về Kiểu Dữ Liệu Cơ Bản trong Python\n",
    "\n",
    "Python hỗ trợ nhiều kiểu dữ liệu cơ bản, mỗi kiểu có đặc điểm và cách sử dụng riêng. Dưới đây là một số kiểu dữ liệu phổ biến:\n",
    "\n",
    "### 1. Số nguyên (`int`)\n",
    "- Đại diện cho các số nguyên, không có phần thập phân.\n",
    "- Ví dụ: `so_nguyen = 10`\n",
    "\n",
    "### 2. Số thực (`float`)\n",
    "- Đại diện cho các số có phần thập phân.\n",
    "- Ví dụ: `so_thuc = 3.14`\n",
    "\n",
    "### 3. Chuỗi (`str`)\n",
    "- Lưu trữ dãy ký tự (chữ, số, ký hiệu).\n",
    "- Ví dụ: `chuoi = \"Xin chào Python\"`\n",
    "\n",
    "### 4. Boolean (`bool`)\n",
    "- Chỉ nhận hai giá trị: `True` hoặc `False`.\n",
    "- Ví dụ: `la_sinh_vien = True`\n",
    "\n",
    "### 5. Danh sách (`list`)\n",
    "- Lưu trữ nhiều giá trị, có thể thay đổi (mutable), cho phép phần tử trùng lặp.\n",
    "- Ví dụ: `danh_sach = [1, 2, 3, 4, 5]`\n",
    "\n",
    "### 6. Bộ (`tuple`)\n",
    "- Tương tự như danh sách nhưng không thể thay đổi (immutable).\n",
    "- Ví dụ: `bo = (1, 2, 3)`\n",
    "\n",
    "### 7. Tập hợp (`set`)\n",
    "- Lưu trữ các giá trị duy nhất, không có thứ tự.\n",
    "- Ví dụ: `tap_hop = {1, 2, 3}`\n",
    "\n",
    "### 8. Từ điển (`dict`)\n",
    "- Lưu trữ các cặp khóa-giá trị.\n",
    "- Ví dụ: `tu_dien = {\"ten\": \"An\", \"tuoi\": 20}`\n",
    "\n",
    "---\n",
    "\n",
    "**Lưu ý:** Có thể kiểm tra kiểu dữ liệu của một biến bằng hàm `type()`, ví dụ: `type(so_nguyen)`."
   ]
  },
  {
   "cell_type": "code",
   "execution_count": 1,
   "id": "70facd50",
   "metadata": {},
   "outputs": [
    {
     "name": "stdout",
     "output_type": "stream",
     "text": [
      "Số nguyên: 10\n",
      "Số thực: 3.14\n",
      "Chuỗi: Xin chào Python\n",
      "Là sinh viên: True\n",
      "Danh sách: [1, 2, 3, 4, 5]\n"
     ]
    }
   ],
   "source": [
    "# Kiểu số nguyên (int)\n",
    "so_nguyen = 10\n",
    "print(\"Số nguyên:\", so_nguyen)\n",
    "\n",
    "# Kiểu số thực (float)\n",
    "so_thuc = 3.14\n",
    "print(\"Số thực:\", so_thuc)\n",
    "\n",
    "# Kiểu chuỗi (str)\n",
    "chuoi = \"Xin chào Python\"\n",
    "print(\"Chuỗi:\", chuoi)\n",
    "\n",
    "# Kiểu boolean (bool)\n",
    "la_sinh_vien = True\n",
    "print(\"Là sinh viên:\", la_sinh_vien)\n",
    "\n",
    "# Kiểu danh sách (list)\n",
    "danh_sach = [1, 2, 3, 4, 5]\n",
    "print(\"Danh sách:\", danh_sach)\n",
    "# ...existing code..."
   ]
  },
  {
   "cell_type": "code",
   "execution_count": 6,
   "id": "1998e37a",
   "metadata": {},
   "outputs": [
    {
     "name": "stdout",
     "output_type": "stream",
     "text": [
      "Tuple (bộ): (1, 2, 3)\n",
      "Set (tập hợp): {1, 2, 3}\n",
      "Dictionary (từ điển): {'ten': 'An', 'tuoi': 20}\n",
      "Kiểu của bo: <class 'tuple'>\n",
      "Kiểu của tap_hop: <class 'set'>\n",
      "Kiểu của tu_dien: <class 'dict'>\n"
     ]
    }
   ],
   "source": [
    "# Kiểu tuple (bộ)\n",
    "bo = (1, 2, 3)\n",
    "print(\"Tuple (bộ):\", bo)\n",
    "\n",
    "# Kiểu set (tập hợp)\n",
    "tap_hop = {1, 2, 3, 3, 2}\n",
    "print(\"Set (tập hợp):\", tap_hop)\n",
    "\n",
    "# Kiểu dictionary (từ điển)\n",
    "tu_dien = {\"ten\": \"An\", \"tuoi\": 20}\n",
    "print(\"Dictionary (từ điển):\", tu_dien)\n",
    "\n",
    "# Kiểm tra kiểu dữ liệu của biến\n",
    "print(\"Kiểu của bo:\", type(bo))\n",
    "print(\"Kiểu của tap_hop:\", type(tap_hop))\n",
    "print(\"Kiểu của tu_dien:\", type(tu_dien))\n",
    "# ...existing code...\n"
   ]
  },
  {
   "cell_type": "markdown",
   "id": "c83b9c82",
   "metadata": {
    "vscode": {
     "languageId": "ini"
    }
   },
   "source": [
    "## Một số thao tác cơ bản với các kiểu dữ liệu\n",
    "\n",
    "### 1. Số nguyên và số thực\n",
    "- Có thể thực hiện các phép toán: cộng (+), trừ (-), nhân (*), chia (/), chia lấy dư (%), lũy thừa (**).\n",
    "- Ví dụ: `tong = so_nguyen + so_thuc`\n",
    "\n",
    "### 2. Chuỗi (str)\n",
    "- Nối chuỗi: `chuoi_moi = chuoi + \" - Học Python\"`\n",
    "- Lấy độ dài chuỗi: `len(chuoi)`\n",
    "- Truy cập ký tự: `chuoi[0]`\n",
    "\n",
    "### 3. Danh sách (list)\n",
    "- Thêm phần tử: `danh_sach.append(6)`\n",
    "- Lấy phần tử: `danh_sach[0]`\n",
    "- Độ dài danh sách: `len(danh_sach)`\n",
    "\n",
    "### 4. Tuple (bộ)\n",
    "- Truy cập phần tử: `bo[1]`\n",
    "- Không thể thay đổi giá trị các phần tử\n",
    "\n",
    "### 5. Set (tập hợp)\n",
    "- Thêm phần tử: `tap_hop.add(4)`\n",
    "- Không chứa phần tử trùng lặp\n",
    "\n",
    "### 6. Dictionary (từ điển)\n",
    "- Truy cập giá trị: `tu_dien[\"ten\"]`\n",
    "- Thêm cặp khóa-giá trị: `tu_dien[\"lop\"] = \"12A\"`\n",
    "\n",
    "---\n",
    "\n",
    "**Thực hành:** Hãy thử các thao tác trên với các biến đã có để hiểu rõ hơn về từng kiểu dữ liệu!"
   ]
  },
  {
   "cell_type": "code",
   "execution_count": 7,
   "id": "7c466bae",
   "metadata": {},
   "outputs": [
    {
     "name": "stdout",
     "output_type": "stream",
     "text": [
      "Chuỗi viết hoa: XIN CHÀO PYTHON\n",
      "Danh sách sau khi thêm 6: [1, 2, 3, 4, 5, 6]\n",
      "Số lần xuất hiện số 2 trong tuple: 1\n",
      "Tập hợp sau khi thêm 4: {1, 2, 3, 4}\n",
      "Từ điển sau khi thêm khóa 'lop': {'ten': 'An', 'tuoi': 20, 'lop': '12A'}\n"
     ]
    }
   ],
   "source": [
    "# Ví dụ thao tác với các biến đã có\n",
    "\n",
    "# 1. Làm việc với chuỗi\n",
    "print(\"Chuỗi viết hoa:\", chuoi.upper())\n",
    "\n",
    "# 2. Làm việc với danh sách\n",
    "danh_sach.append(6)\n",
    "print(\"Danh sách sau khi thêm 6:\", danh_sach)\n",
    "\n",
    "# 3. Làm việc với tuple\n",
    "print(\"Số lần xuất hiện số 2 trong tuple:\", bo.count(2))\n",
    "\n",
    "# 4. Làm việc với set\n",
    "tap_hop.add(4)\n",
    "print(\"Tập hợp sau khi thêm 4:\", tap_hop)\n",
    "\n",
    "# 5. Làm việc với dictionary\n",
    "tu_dien[\"lop\"] = \"12A\"\n",
    "print(\"Từ điển sau khi thêm khóa 'lop':\", tu_dien)"
   ]
  },
  {
   "cell_type": "markdown",
   "id": "a8e39f34",
   "metadata": {
    "vscode": {
     "languageId": "ini"
    }
   },
   "source": [
    "## Hướng dẫn tiếp theo về thao tác với các kiểu dữ liệu\n",
    "\n",
    "### 1. Làm việc với chuỗi (str)\n",
    "- Chuyển thành chữ hoa: `chuoi.upper()`\n",
    "- Chuyển thành chữ thường: `chuoi.lower()`\n",
    "- Thay thế ký tự: `chuoi.replace(\"Python\", \"thế giới\")`\n",
    "\n",
    "### 2. Làm việc với danh sách (list)\n",
    "- Xóa phần tử: `danh_sach.remove(3)` (xóa giá trị 3)\n",
    "- Sắp xếp: `danh_sach.sort()`\n",
    "- Đảo ngược: `danh_sach.reverse()`\n",
    "\n",
    "### 3. Làm việc với tuple (bộ)\n",
    "- Đếm số lần xuất hiện: `bo.count(2)`\n",
    "- Lấy chỉ số phần tử: `bo.index(3)`\n",
    "\n",
    "### 4. Làm việc với set (tập hợp)\n",
    "- Xóa phần tử: `tap_hop.discard(2)`\n",
    "- Hợp hai tập hợp: `tap_hop.union({4, 5})`\n",
    "\n",
    "### 5. Làm việc với dictionary (từ điển)\n",
    "- Lấy danh sách khóa: `tu_dien.keys()`\n",
    "- Lấy danh sách giá trị: `tu_dien.values()`\n",
    "- Xóa một cặp khóa-giá trị: `tu_dien.pop(\"tuoi\")`\n",
    "\n",
    "---\n",
    "\n",
    "**Thực hành:** Hãy thử các thao tác trên với các biến đã có để hiểu rõ hơn về cách sử dụng!"
   ]
  },
  {
   "cell_type": "markdown",
   "id": "bc74a056",
   "metadata": {},
   "source": []
  },
  {
   "cell_type": "code",
   "execution_count": null,
   "id": "5b4f0b94",
   "metadata": {},
   "outputs": [],
   "source": []
  }
 ],
 "metadata": {
  "kernelspec": {
   "display_name": "Python 3",
   "language": "python",
   "name": "python3"
  },
  "language_info": {
   "codemirror_mode": {
    "name": "ipython",
    "version": 3
   },
   "file_extension": ".py",
   "mimetype": "text/x-python",
   "name": "python",
   "nbconvert_exporter": "python",
   "pygments_lexer": "ipython3",
   "version": "3.13.3"
  }
 },
 "nbformat": 4,
 "nbformat_minor": 5
}
