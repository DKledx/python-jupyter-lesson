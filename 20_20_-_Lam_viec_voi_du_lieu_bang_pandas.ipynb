{
 "cells": [
  {
   "cell_type": "markdown",
   "id": "a0466612",
   "metadata": {},
   "source": [
    "# Bài học 20: 20 - Làm việc với dữ liệu bằng pandas"
   ]
  },
  {
   "cell_type": "markdown",
   "id": "c8f1bc36",
   "metadata": {},
   "source": [
    "## Mục tiêu\n",
    "- Hiểu khái niệm cơ bản\n",
    "- Viết được ví dụ minh hoạ\n",
    "- Làm bài tập thực hành"
   ]
  },
  {
   "cell_type": "markdown",
   "id": "a9b18863",
   "metadata": {},
   "source": [
    "## Nội dung chính bài học \"Làm việc với dữ liệu bằng pandas\" trong Python\n",
    "\n",
    "1. **Khái niệm về pandas và DataFrame**\n",
    "2. **Tạo DataFrame từ list, dict**\n",
    "3. **Đọc dữ liệu từ file CSV**\n",
    "4. **Truy cập, chọn dòng/cột**\n",
    "5. **Lọc dữ liệu theo điều kiện**\n",
    "6. **Thêm, xoá dòng/cột**\n",
    "7. **Thống kê, mô tả dữ liệu**\n",
    "8. **Xử lý dữ liệu thiếu**\n",
    "9. **Ghi dữ liệu ra file**\n",
    "10. **Thực hành: Phân tích dữ liệu đơn giản**"
   ]
  },
  {
   "cell_type": "code",
   "execution_count": 2,
   "id": "3d85d273",
   "metadata": {},
   "outputs": [
    {
     "name": "stdout",
     "output_type": "stream",
     "text": [
      "DataFrame:\n",
      "     Tên  Tuổi  Điểm\n",
      "0    An    20   8.5\n",
      "1  Bình    21   7.0\n",
      "2   Lan    19   9.2\n",
      "Cột Tên: 0      An\n",
      "1    Bình\n",
      "2     Lan\n",
      "Name: Tên, dtype: object\n",
      "Dòng đầu tiên:\n",
      " Tên      An\n",
      "Tuổi     20\n",
      "Điểm    8.5\n",
      "Name: 0, dtype: object\n",
      "Sinh viên điểm > 8:\n",
      "    Tên  Tuổi  Điểm\n",
      "0   An    20   8.5\n",
      "2  Lan    19   9.2\n",
      "Thêm cột Lớp:\n",
      "     Tên  Tuổi  Điểm Lớp\n",
      "0    An    20   8.5   A\n",
      "1  Bình    21   7.0   B\n",
      "2   Lan    19   9.2   A\n",
      "Xoá cột Tuổi:\n",
      "     Tên  Điểm Lớp\n",
      "0    An   8.5   A\n",
      "1  Bình   7.0   B\n",
      "2   Lan   9.2   A\n",
      "Mô tả điểm:\n",
      " count    3.000000\n",
      "mean     8.233333\n",
      "std      1.123981\n",
      "min      7.000000\n",
      "25%      7.750000\n",
      "50%      8.500000\n",
      "75%      8.850000\n",
      "max      9.200000\n",
      "Name: Điểm, dtype: float64\n",
      "Có giá trị thiếu:\n",
      "     Tên  Điểm Lớp\n",
      "0    An   8.5   A\n",
      "1  Bình   NaN   B\n",
      "2   Lan   9.2   A\n",
      "Điểm trung bình (bỏ NaN): 8.85\n",
      "Số sinh viên mỗi lớp:\n",
      " Lớp\n",
      "A    2\n",
      "B    1\n",
      "Name: count, dtype: int64\n"
     ]
    }
   ],
   "source": [
    "# 1. Import pandas\n",
    "import pandas as pd\n",
    "\n",
    "# 2. Tạo DataFrame từ dict\n",
    "data = {\n",
    "    \"Tên\": [\"An\", \"Bình\", \"Lan\"],\n",
    "    \"Tuổi\": [20, 21, 19],\n",
    "    \"Điểm\": [8.5, 7.0, 9.2]\n",
    "}\n",
    "df = pd.DataFrame(data)\n",
    "print(\"DataFrame:\\n\", df)\n",
    "\n",
    "# 3. Đọc dữ liệu từ file CSV (giả sử có file data.csv)\n",
    "# df = pd.read_csv(\"data.csv\")\n",
    "\n",
    "# 4. Truy cập, chọn dòng/cột\n",
    "print(\"Cột Tên:\", df[\"Tên\"])\n",
    "print(\"Dòng đầu tiên:\\n\", df.iloc[0])\n",
    "\n",
    "# 5. Lọc dữ liệu theo điều kiện\n",
    "print(\"Sinh viên điểm > 8:\\n\", df[df[\"Điểm\"] > 8])\n",
    "\n",
    "# 6. Thêm, xoá dòng/cột\n",
    "df[\"Lớp\"] = [\"A\", \"B\", \"A\"]\n",
    "print(\"Thêm cột Lớp:\\n\", df)\n",
    "df = df.drop(\"Tuổi\", axis=1)\n",
    "print(\"Xoá cột Tuổi:\\n\", df)\n",
    "\n",
    "# 7. Thống kê, mô tả dữ liệu\n",
    "print(\"Mô tả điểm:\\n\", df[\"Điểm\"].describe())\n",
    "\n",
    "# 8. Xử lý dữ liệu thiếu\n",
    "df.loc[1, \"Điểm\"] = None\n",
    "print(\"Có giá trị thiếu:\\n\", df)\n",
    "print(\"Điểm trung bình (bỏ NaN):\", df[\"Điểm\"].mean())\n",
    "\n",
    "# 9. Ghi dữ liệu ra file CSV\n",
    "# df.to_csv(\"output.csv\", index=False)\n",
    "\n",
    "# 10. Thực hành: Đếm số sinh viên mỗi lớp\n",
    "print(\"Số sinh viên mỗi lớp:\\n\", df[\"Lớp\"].value_counts())"
   ]
  }
 ],
 "metadata": {
  "kernelspec": {
   "display_name": "Python 3",
   "language": "python",
   "name": "python3"
  },
  "language_info": {
   "codemirror_mode": {
    "name": "ipython",
    "version": 3
   },
   "file_extension": ".py",
   "mimetype": "text/x-python",
   "name": "python",
   "nbconvert_exporter": "python",
   "pygments_lexer": "ipython3",
   "version": "3.13.3"
  }
 },
 "nbformat": 4,
 "nbformat_minor": 5
}
