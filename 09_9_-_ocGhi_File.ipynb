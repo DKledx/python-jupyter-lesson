{
 "cells": [
  {
   "cell_type": "markdown",
   "id": "723c9394",
   "metadata": {},
   "source": [
    "# Bài học 9: 9 - Đọc/Ghi File"
   ]
  },
  {
   "cell_type": "markdown",
   "id": "9d0c1fff",
   "metadata": {},
   "source": [
    "## Mục tiêu\n",
    "- Hiểu khái niệm cơ bản\n",
    "- Viết được ví dụ minh hoạ\n",
    "- Làm bài tập thực hành"
   ]
  },
  {
   "cell_type": "code",
   "execution_count": null,
   "id": "23e65fa5",
   "metadata": {},
   "outputs": [],
   "source": [
    "# Viết code Python tại đây"
   ]
  }
 ],
 "metadata": {},
 "nbformat": 4,
 "nbformat_minor": 5
}
