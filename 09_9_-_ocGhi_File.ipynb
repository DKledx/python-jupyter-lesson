{
 "cells": [
  {
   "cell_type": "markdown",
   "id": "723c9394",
   "metadata": {},
   "source": [
    "# Bài học 9: 9 - Đọc/Ghi File"
   ]
  },
  {
   "cell_type": "markdown",
   "id": "9d0c1fff",
   "metadata": {},
   "source": [
    "## Mục tiêu\n",
    "- Hiểu khái niệm cơ bản\n",
    "- Viết được ví dụ minh hoạ\n",
    "- Làm bài tập thực hành"
   ]
  },
  {
   "cell_type": "markdown",
   "id": "5255c5e5",
   "metadata": {},
   "source": [
    "## Nội dung chính bài học \"Đọc/Ghi File\" trong Python\n",
    "\n",
    "1. **Khái niệm về file trong Python**\n",
    "2. **Mở file với hàm open**\n",
    "3. **Đọc file văn bản (read, readline, readlines)**\n",
    "4. **Ghi file văn bản (write, writelines)**\n",
    "5. **Đóng file**\n",
    "6. **Cách sử dụng with để tự động đóng file**\n",
    "7. **Đọc/Ghi file nhị phân**\n",
    "8. **Xử lý ngoại lệ khi làm việc với file**\n",
    "9. **Thực hành: Đọc file và đếm số dòng**\n",
    "10. **Thực hành: Ghi danh sách vào file**"
   ]
  },
  {
   "cell_type": "code",
   "execution_count": 2,
   "id": "95389f4a",
   "metadata": {},
   "outputs": [],
   "source": [
    "# Tạo file test.txt với nội dung mẫu\n",
    "with open(\"test.txt\", \"w\", encoding=\"utf-8\") as f:\n",
    "    f.write(\"Xin chào!\\n\")\n",
    "    f.write(\"Đây là dòng thứ hai.\\n\")"
   ]
  },
  {
   "cell_type": "code",
   "execution_count": 7,
   "id": "bef9b104",
   "metadata": {},
   "outputs": [
    {
     "name": "stdout",
     "output_type": "stream",
     "text": [
      "Nội dung file:\n",
      " Xin chào!\n",
      "Đây là dòng thứ hai.\n",
      "\n",
      "Dòng: Xin chào!\n",
      "Dòng: Đây là dòng thứ hai.\n",
      "File nhị phân: b'Hello binary'\n",
      "File không tồn tại!\n",
      "Số dòng trong file: 2\n"
     ]
    }
   ],
   "source": [
    "# 1. Khái niệm về file trong Python\n",
    "# File là nơi lưu trữ dữ liệu trên ổ đĩa, có thể đọc/ghi bằng Python.\n",
    "\n",
    "# 2. Mở file với hàm open (có encoding utf-8)\n",
    "f = open(\"test.txt\", \"w\", encoding=\"utf-8\")  # Mở file để ghi với utf-8\n",
    "\n",
    "# 3. Ghi file văn bản\n",
    "f.write(\"Xin chào!\\n\")\n",
    "f.write(\"Đây là dòng thứ hai.\\n\")\n",
    "\n",
    "# 4. Đóng file\n",
    "f.close()\n",
    "\n",
    "# 5. Đọc file văn bản\n",
    "f = open(\"test.txt\", \"r\", encoding=\"utf-8\")\n",
    "noi_dung = f.read()\n",
    "print(\"Nội dung file:\\n\", noi_dung)\n",
    "f.close()\n",
    "\n",
    "# 6. Sử dụng with để tự động đóng file\n",
    "with open(\"test.txt\", \"r\", encoding=\"utf-8\") as f:\n",
    "    for dong in f:\n",
    "        print(\"Dòng:\", dong.strip())\n",
    "\n",
    "# 7. Đọc/Ghi file nhị phân\n",
    "with open(\"test.bin\", \"wb\") as f:\n",
    "    f.write(b\"Hello binary\")\n",
    "\n",
    "with open(\"test.bin\", \"rb\") as f:\n",
    "    data = f.read()\n",
    "    print(\"File nhị phân:\", data)\n",
    "\n",
    "# 8. Xử lý ngoại lệ khi làm việc với file\n",
    "try:\n",
    "    with open(\"khong_ton_tai.txt\", \"r\", encoding=\"utf-8\") as f:\n",
    "        f.read()\n",
    "except FileNotFoundError:\n",
    "    print(\"File không tồn tại!\")\n",
    "\n",
    "# 9. Thực hành: Đọc file và đếm số dòng\n",
    "with open(\"test.txt\", \"r\", encoding=\"utf-8\") as f:\n",
    "    lines = f.readlines()\n",
    "    print(\"Số dòng trong file:\", len(lines))\n",
    "\n",
    "# 10. Thực hành: Ghi danh sách vào file\n",
    "ds = [\"Python\\n\", \"Java\\n\", \"C++\\n\"]\n",
    "with open(\"ds.txt\", \"w\", encoding=\"utf-8\") as f:\n",
    "    f.writelines(ds)"
   ]
  }
 ],
 "metadata": {
  "kernelspec": {
   "display_name": "Python 3",
   "language": "python",
   "name": "python3"
  },
  "language_info": {
   "codemirror_mode": {
    "name": "ipython",
    "version": 3
   },
   "file_extension": ".py",
   "mimetype": "text/x-python",
   "name": "python",
   "nbconvert_exporter": "python",
   "pygments_lexer": "ipython3",
   "version": "3.13.3"
  }
 },
 "nbformat": 4,
 "nbformat_minor": 5
}
