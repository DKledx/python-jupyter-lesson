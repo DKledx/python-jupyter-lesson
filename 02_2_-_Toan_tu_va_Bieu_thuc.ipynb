{
 "cells": [
  {
   "cell_type": "markdown",
   "id": "70e700e8",
   "metadata": {},
   "source": [
    "# Bài học 2: 2 - Toán tử và Biểu thức"
   ]
  },
  {
   "cell_type": "markdown",
   "id": "65ca18bb",
   "metadata": {},
   "source": [
    "## Mục tiêu\n",
    "- Hiểu khái niệm cơ bản\n",
    "- Viết được ví dụ minh hoạ\n",
    "- Làm bài tập thực hành"
   ]
  },
  {
   "cell_type": "markdown",
   "id": "5a44e2bb",
   "metadata": {},
   "source": [
    "# Giới thiệu bài học\n",
    "\n",
    "Trong bài học này, chúng ta sẽ tìm hiểu về các toán tử và biểu thức trong Python. Toán tử là những ký hiệu đặc biệt dùng để thực hiện các phép toán trên dữ liệu, còn biểu thức là sự kết hợp giữa các toán tử và toán hạng để tạo ra giá trị mới. Việc hiểu rõ về toán tử và biểu thức sẽ giúp bạn viết mã hiệu quả và dễ hiểu hơn.\n",
    "\n",
    "## Nội dung bài học\n",
    "\n",
    "1. Giới thiệu về toán tử trong Python\n",
    "2. Toán tử số học (Arithmetic Operators)\n",
    "3. Toán tử gán (Assignment Operators)\n",
    "4. Toán tử so sánh (Comparison Operators)\n",
    "5. Toán tử logic (Logical Operators)\n",
    "6. Toán tử bit (Bitwise Operators)\n",
    "7. Toán tử thành viên (Membership Operators)\n",
    "8. Toán tử định danh (Identity Operators)\n",
    "9. Biểu thức kết hợp nhiều toán tử\n",
    "10. Thực hành và bài tập tổng hợp"
   ]
  },
  {
   "cell_type": "code",
   "execution_count": 2,
   "id": "8e1f59ea",
   "metadata": {},
   "outputs": [
    {
     "name": "stdout",
     "output_type": "stream",
     "text": [
      "a + b = 13\n",
      "a - b = 7\n",
      "a * b = 30\n",
      "a / b = 3.3333333333333335\n"
     ]
    }
   ],
   "source": [
    "# 1. Giới thiệu về toán tử trong Python\n",
    "\n",
    "# Toán tử là các ký hiệu đặc biệt dùng để thực hiện các phép toán trên dữ liệu.\n",
    "# Ví dụ về một số toán tử phổ biến:\n",
    "a = 10\n",
    "b = 3\n",
    "\n",
    "# Toán tử cộng\n",
    "tong = a + b\n",
    "print(\"a + b =\", tong)\n",
    "\n",
    "# Toán tử trừ\n",
    "hieu = a - b\n",
    "print(\"a - b =\", hieu)\n",
    "\n",
    "# Toán tử nhân\n",
    "tich = a * b\n",
    "print(\"a * b =\", tich)\n",
    "\n",
    "# Toán tử chia\n",
    "thuong = a / b\n",
    "print(\"a / b =\", thuong)"
   ]
  },
  {
   "cell_type": "code",
   "execution_count": 1,
   "id": "48284aaf",
   "metadata": {},
   "outputs": [
    {
     "name": "stdout",
     "output_type": "stream",
     "text": [
      "x + y = 9\n",
      "x - y = 5\n",
      "x * y = 14\n",
      "x / y = 3.5\n",
      "x // y = 3\n",
      "x % y = 1\n",
      "x ** y = 49\n"
     ]
    }
   ],
   "source": [
    "# 2. Toán tử số học (Arithmetic Operators)\n",
    "\n",
    "# Các toán tử số học phổ biến trong Python:\n",
    "# +  : Cộng\n",
    "# -  : Trừ\n",
    "# *  : Nhân\n",
    "# /  : Chia (kết quả là số thực)\n",
    "# // : Chia lấy phần nguyên\n",
    "# %  : Chia lấy dư\n",
    "# ** : Lũy thừa\n",
    "\n",
    "x = 7\n",
    "y = 2\n",
    "\n",
    "print(\"x + y =\", x + y)\n",
    "print(\"x - y =\", x - y)\n",
    "print(\"x * y =\", x * y)\n",
    "print(\"x / y =\", x / y)\n",
    "print(\"x // y =\", x // y)\n",
    "print(\"x % y =\", x % y)\n",
    "print(\"x ** y =\", x ** y)"
   ]
  },
  {
   "cell_type": "code",
   "execution_count": 3,
   "id": "d155c7b8",
   "metadata": {},
   "outputs": [
    {
     "name": "stdout",
     "output_type": "stream",
     "text": [
      "Giá trị ban đầu của z: 5\n",
      "z sau khi z += 2: 7\n",
      "z sau khi z *= 3: 21\n",
      "z sau khi z -= 4: 17\n",
      "z sau khi z /= 2: 8.5\n"
     ]
    }
   ],
   "source": [
    "# 3. Toán tử gán (Assignment Operators)\n",
    "\n",
    "# Toán tử gán dùng để gán giá trị cho biến.\n",
    "# Một số toán tử gán phổ biến:\n",
    "# =   : Gán giá trị\n",
    "# +=  : Cộng rồi gán\n",
    "# -=  : Trừ rồi gán\n",
    "# *=  : Nhân rồi gán\n",
    "# /=  : Chia rồi gán\n",
    "# //= : Chia lấy nguyên rồi gán\n",
    "# %=  : Chia lấy dư rồi gán\n",
    "# **= : Lũy thừa rồi gán\n",
    "\n",
    "z = 5\n",
    "print(\"Giá trị ban đầu của z:\", z)\n",
    "\n",
    "z += 2\n",
    "print(\"z sau khi z += 2:\", z)\n",
    "\n",
    "z *= 3\n",
    "print(\"z sau khi z *= 3:\", z)\n",
    "\n",
    "z -= 4\n",
    "print(\"z sau khi z -= 4:\", z)\n",
    "\n",
    "z /= 2\n",
    "print(\"z sau khi z /= 2:\", z)"
   ]
  },
  {
   "cell_type": "code",
   "execution_count": 4,
   "id": "efe8c6bc",
   "metadata": {},
   "outputs": [
    {
     "name": "stdout",
     "output_type": "stream",
     "text": [
      "a == b: False\n",
      "a != b: True\n",
      "a > b: True\n",
      "a < b: False\n",
      "a >= b: True\n",
      "a <= b: False\n"
     ]
    }
   ],
   "source": [
    "# 4. Toán tử so sánh (Comparison Operators)\n",
    "\n",
    "# Các toán tử so sánh dùng để so sánh giá trị giữa hai biến hoặc biểu thức.\n",
    "# Kết quả trả về là True hoặc False.\n",
    "\n",
    "print(\"a == b:\", a == b)   # So sánh bằng\n",
    "print(\"a != b:\", a != b)   # So sánh khác\n",
    "print(\"a > b:\", a > b)     # Lớn hơn\n",
    "print(\"a < b:\", a < b)     # Nhỏ hơn\n",
    "print(\"a >= b:\", a >= b)   # Lớn hơn hoặc bằng\n",
    "print(\"a <= b:\", a <= b)   # Nhỏ hơn hoặc bằng"
   ]
  },
  {
   "cell_type": "code",
   "execution_count": 5,
   "id": "bc9804af",
   "metadata": {},
   "outputs": [
    {
     "name": "stdout",
     "output_type": "stream",
     "text": [
      "(a > b) and (x > y): True\n",
      "(a < b) or (x > y): True\n",
      "not (a == b): True\n"
     ]
    }
   ],
   "source": [
    "# 5. Toán tử logic (Logical Operators)\n",
    "\n",
    "# Các toán tử logic dùng để kết hợp nhiều điều kiện lại với nhau.\n",
    "# Kết quả trả về là True hoặc False.\n",
    "\n",
    "# and: Trả về True nếu cả hai điều kiện đều đúng\n",
    "print(\"(a > b) and (x > y):\", (a > b) and (x > y))\n",
    "\n",
    "# or: Trả về True nếu ít nhất một điều kiện đúng\n",
    "print(\"(a < b) or (x > y):\", (a < b) or (x > y))\n",
    "\n",
    "# not: Đảo ngược giá trị logic\n",
    "print(\"not (a == b):\", not (a == b))"
   ]
  },
  {
   "cell_type": "code",
   "execution_count": null,
   "id": "6f28110d",
   "metadata": {},
   "outputs": [],
   "source": [
    "# 6. Toán tử bit (Bitwise Operators)\n",
    "\n",
    "# Các toán tử bit dùng để thao tác trên các bit của số nguyên.\n",
    "# &  : AND\n",
    "# |  : OR\n",
    "# ^  : XOR\n",
    "# ~  : NOT\n",
    "# << : Dịch trái\n",
    "# >> : Dịch phải\n",
    "\n",
    "m = 5   # 0b0101\n",
    "n = 3   # 0b0011\n",
    "\n",
    "print(\"m & n =\", m & n)   # Kết quả: 1 (0b0001)\n",
    "print(\"m | n =\", m | n)   # Kết quả: 7 (0b0111)\n",
    "print(\"m ^ n =\", m ^ n)   # Kết quả: 6 (0b0110)\n",
    "print(\"~m =\", ~m)         # Kết quả: -6\n",
    "print(\"m << 1 =\", m << 1) # Kết quả: 10 (0b1010)\n",
    "print(\"m >> 1 =\", m >> 1) # Kết quả: 2 (0b0010)"
   ]
  },
  {
   "cell_type": "code",
   "execution_count": null,
   "id": "39e2918d",
   "metadata": {},
   "outputs": [],
   "source": [
    "# 7. Toán tử thành viên (Membership Operators)\n",
    "\n",
    "# Toán tử thành viên dùng để kiểm tra một giá trị có nằm trong chuỗi, danh sách, tuple, v.v. hay không.\n",
    "# in     : Trả về True nếu giá trị nằm trong dãy\n",
    "# not in : Trả về True nếu giá trị không nằm trong dãy\n",
    "\n",
    "lst = [1, 2, 3, 4, 5, 10]\n",
    "\n",
    "print(\"a in lst:\", a in lst)\n",
    "print(\"b not in lst:\", b not in lst)"
   ]
  },
  {
   "cell_type": "code",
   "execution_count": null,
   "id": "2d806590",
   "metadata": {},
   "outputs": [],
   "source": [
    "# 8. Toán tử định danh (Identity Operators)\n",
    "\n",
    "# Toán tử định danh dùng để kiểm tra hai biến có cùng tham chiếu đến một đối tượng trong bộ nhớ hay không.\n",
    "# is     : Trả về True nếu hai biến cùng tham chiếu một đối tượng\n",
    "# is not : Trả về True nếu hai biến không cùng tham chiếu một đối tượng\n",
    "\n",
    "c = a\n",
    "d = 10\n",
    "\n",
    "print(\"a is c:\", a is c)         # True, vì c và a cùng tham chiếu đến một đối tượng\n",
    "print(\"a is d:\", a is d)         # Có thể True hoặc False tùy vào cách Python quản lý bộ nhớ cho số nguyên nhỏ\n",
    "print(\"a is not b:\", a is not b) # True, vì a và b là hai đối tượng khác nhau"
   ]
  },
  {
   "cell_type": "code",
   "execution_count": null,
   "id": "8d6561b4",
   "metadata": {},
   "outputs": [],
   "source": [
    "# 9. Biểu thức kết hợp nhiều toán tử\n",
    "\n",
    "# Có thể kết hợp nhiều toán tử trong một biểu thức.\n",
    "# Python sẽ thực hiện theo thứ tự ưu tiên của các toán tử.\n",
    "\n",
    "ket_qua = (a + b) * x - y / z\n",
    "print(\"Kết quả của (a + b) * x - y / z là:\", ket_qua)"
   ]
  },
  {
   "cell_type": "code",
   "execution_count": null,
   "id": "f2205342",
   "metadata": {},
   "outputs": [],
   "source": [
    "# 10. Thực hành: Viết biểu thức sử dụng các toán tử đã học\n",
    "\n",
    "# Tính giá trị biểu thức: (a * x + b ** y) / z - tich\n",
    "ket_qua_2 = (a * x + b ** y) / z - tich\n",
    "print(\"Kết quả của (a * x + b ** y) / z - tich là:\", ket_qua_2)"
   ]
  },
  {
   "cell_type": "code",
   "execution_count": null,
   "id": "2b60c2d4",
   "metadata": {},
   "outputs": [],
   "source": []
  },
  {
   "cell_type": "code",
   "execution_count": null,
   "id": "d5897bbf",
   "metadata": {},
   "outputs": [],
   "source": []
  }
 ],
 "metadata": {
  "kernelspec": {
   "display_name": "Python 3",
   "language": "python",
   "name": "python3"
  },
  "language_info": {
   "codemirror_mode": {
    "name": "ipython",
    "version": 3
   },
   "file_extension": ".py",
   "mimetype": "text/x-python",
   "name": "python",
   "nbconvert_exporter": "python",
   "pygments_lexer": "ipython3",
   "version": "3.13.3"
  }
 },
 "nbformat": 4,
 "nbformat_minor": 5
}
