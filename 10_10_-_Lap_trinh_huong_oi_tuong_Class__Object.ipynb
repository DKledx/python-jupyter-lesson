{
 "cells": [
  {
   "cell_type": "markdown",
   "id": "72c3be82",
   "metadata": {},
   "source": [
    "# Bài học 10: 10 - Lập trình hướng đối tượng: Class & Object"
   ]
  },
  {
   "cell_type": "markdown",
   "id": "de7242b0",
   "metadata": {},
   "source": [
    "## Mục tiêu\n",
    "- Hiểu khái niệm cơ bản\n",
    "- Viết được ví dụ minh hoạ\n",
    "- Làm bài tập thực hành"
   ]
  },
  {
   "cell_type": "code",
   "execution_count": null,
   "id": "6d6bad62",
   "metadata": {},
   "outputs": [],
   "source": [
    "# Viết code Python tại đây"
   ]
  }
 ],
 "metadata": {},
 "nbformat": 4,
 "nbformat_minor": 5
}
