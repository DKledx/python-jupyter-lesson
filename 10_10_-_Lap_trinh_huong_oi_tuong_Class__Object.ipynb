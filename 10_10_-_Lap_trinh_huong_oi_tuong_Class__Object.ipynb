{
 "cells": [
  {
   "cell_type": "markdown",
   "id": "72c3be82",
   "metadata": {},
   "source": [
    "# Bài học 10: 10 - Lập trình hướng đối tượng: Class & Object"
   ]
  },
  {
   "cell_type": "markdown",
   "id": "de7242b0",
   "metadata": {},
   "source": [
    "## Mục tiêu\n",
    "- Hiểu khái niệm cơ bản\n",
    "- Viết được ví dụ minh hoạ\n",
    "- Làm bài tập thực hành"
   ]
  },
  {
   "cell_type": "markdown",
   "id": "0df0e6dc",
   "metadata": {},
   "source": [
    "## Nội dung chính bài học \"Lập trình hướng đối tượng: Class & Object\" trong Python\n",
    "\n",
    "1. **Khái niệm về lập trình hướng đối tượng (OOP)**\n",
    "2. **Class và Object là gì?**\n",
    "3. **Cách định nghĩa một class**\n",
    "4. **Tạo object từ class**\n",
    "5. **Thuộc tính (attribute) và phương thức (method)**\n",
    "6. **Hàm khởi tạo `__init__`**\n",
    "7. **Tính kế thừa (inheritance)**\n",
    "8. **Tính đa hình (polymorphism)**\n",
    "9. **Tính đóng gói (encapsulation)**\n",
    "10. **Thực hành: Xây dựng class và sử dụng object**"
   ]
  },
  {
   "cell_type": "code",
   "execution_count": 1,
   "id": "6d6bad62",
   "metadata": {},
   "outputs": [
    {
     "name": "stdout",
     "output_type": "stream",
     "text": [
      "Xin chào, mình là An, 20 tuổi.\n",
      "Xin chào, mình là Bình, 22 tuổi.\n",
      "Xin chào, mình là Lan, 21 tuổi.\n",
      "Mình là Lan, học ngành Công nghệ thông tin.\n",
      "Động vật kêu...\n",
      "Gâu gâu!\n",
      "Meo meo!\n",
      "Số dư: 1500\n",
      "Diện tích hình chữ nhật: 15\n"
     ]
    }
   ],
   "source": [
    "# 1. Khái niệm về lập trình hướng đối tượng (OOP)\n",
    "# OOP là phương pháp lập trình dựa trên đối tượng (object) và lớp (class).\n",
    "\n",
    "# 2. Class và Object là gì?\n",
    "# Class là khuôn mẫu, Object là thực thể được tạo ra từ class.\n",
    "\n",
    "# 3. Cách định nghĩa một class\n",
    "class SinhVien:\n",
    "    # 6. Hàm khởi tạo __init__\n",
    "    def __init__(self, ten, tuoi):\n",
    "        self.ten = ten\n",
    "        self.tuoi = tuoi\n",
    "\n",
    "    # 5. Phương thức (method)\n",
    "    def chao(self):\n",
    "        print(f\"Xin chào, mình là {self.ten}, {self.tuoi} tuổi.\")\n",
    "\n",
    "# 4. Tạo object từ class\n",
    "sv1 = SinhVien(\"An\", 20)\n",
    "sv2 = SinhVien(\"Bình\", 22)\n",
    "\n",
    "# Sử dụng phương thức\n",
    "sv1.chao()\n",
    "sv2.chao()\n",
    "\n",
    "# 7. Tính kế thừa (inheritance)\n",
    "class SinhVienCNTT(SinhVien):\n",
    "    def __init__(self, ten, tuoi, nganh):\n",
    "        super().__init__(ten, tuoi)\n",
    "        self.nganh = nganh\n",
    "\n",
    "    def gioi_thieu(self):\n",
    "        print(f\"Mình là {self.ten}, học ngành {self.nganh}.\")\n",
    "\n",
    "sv3 = SinhVienCNTT(\"Lan\", 21, \"Công nghệ thông tin\")\n",
    "sv3.chao()\n",
    "sv3.gioi_thieu()\n",
    "\n",
    "# 8. Tính đa hình (polymorphism)\n",
    "class DongVat:\n",
    "    def keu(self):\n",
    "        print(\"Động vật kêu...\")\n",
    "\n",
    "class Cho(DongVat):\n",
    "    def keu(self):\n",
    "        print(\"Gâu gâu!\")\n",
    "\n",
    "class Meo(DongVat):\n",
    "    def keu(self):\n",
    "        print(\"Meo meo!\")\n",
    "\n",
    "ds = [DongVat(), Cho(), Meo()]\n",
    "for dv in ds:\n",
    "    dv.keu()\n",
    "\n",
    "# 9. Tính đóng gói (encapsulation)\n",
    "class BankAccount:\n",
    "    def __init__(self, balance):\n",
    "        self.__balance = balance  # Thuộc tính private\n",
    "\n",
    "    def deposit(self, amount):\n",
    "        self.__balance += amount\n",
    "\n",
    "    def get_balance(self):\n",
    "        return self.__balance\n",
    "\n",
    "acc = BankAccount(1000)\n",
    "acc.deposit(500)\n",
    "print(\"Số dư:\", acc.get_balance())\n",
    "\n",
    "# 10. Thực hành: Xây dựng class và sử dụng object\n",
    "class HinhChuNhat:\n",
    "    def __init__(self, dai, rong):\n",
    "        self.dai = dai\n",
    "        self.rong = rong\n",
    "\n",
    "    def dien_tich(self):\n",
    "        return self.dai * self.rong\n",
    "\n",
    "hcn = HinhChuNhat(5, 3)\n",
    "print(\"Diện tích hình chữ nhật:\", hcn.dien_tich())"
   ]
  }
 ],
 "metadata": {
  "kernelspec": {
   "display_name": "Python 3",
   "language": "python",
   "name": "python3"
  },
  "language_info": {
   "codemirror_mode": {
    "name": "ipython",
    "version": 3
   },
   "file_extension": ".py",
   "mimetype": "text/x-python",
   "name": "python",
   "nbconvert_exporter": "python",
   "pygments_lexer": "ipython3",
   "version": "3.13.3"
  }
 },
 "nbformat": 4,
 "nbformat_minor": 5
}
