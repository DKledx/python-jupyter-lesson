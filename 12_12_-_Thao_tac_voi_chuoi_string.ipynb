{
 "cells": [
  {
   "cell_type": "markdown",
   "id": "f624d000",
   "metadata": {},
   "source": [
    "# Bài học 12: 12 - Thao tác với chuỗi (string)"
   ]
  },
  {
   "cell_type": "markdown",
   "id": "0b70eafe",
   "metadata": {},
   "source": [
    "## Mục tiêu\n",
    "- Hiểu khái niệm cơ bản\n",
    "- Viết được ví dụ minh hoạ\n",
    "- Làm bài tập thực hành"
   ]
  },
  {
   "cell_type": "code",
   "execution_count": null,
   "id": "7aecfde0",
   "metadata": {},
   "outputs": [],
   "source": [
    "# Viết code Python tại đây"
   ]
  }
 ],
 "metadata": {},
 "nbformat": 4,
 "nbformat_minor": 5
}
