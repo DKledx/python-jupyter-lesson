{
 "cells": [
  {
   "cell_type": "markdown",
   "id": "f624d000",
   "metadata": {},
   "source": [
    "# Bài học 12: 12 - Thao tác với chuỗi (string)"
   ]
  },
  {
   "cell_type": "markdown",
   "id": "0b70eafe",
   "metadata": {},
   "source": [
    "## Mục tiêu\n",
    "- Hiểu khái niệm cơ bản\n",
    "- Viết được ví dụ minh hoạ\n",
    "- Làm bài tập thực hành"
   ]
  },
  {
   "cell_type": "markdown",
   "id": "33259f1f",
   "metadata": {},
   "source": [
    "## Nội dung chính bài học \"Thao tác với chuỗi (string)\" trong Python\n",
    "\n",
    "1. **Khái niệm về chuỗi (string)**\n",
    "2. **Tạo và truy cập ký tự trong chuỗi**\n",
    "3. **Nối chuỗi và lặp chuỗi**\n",
    "4. **Các phương thức xử lý chuỗi cơ bản**\n",
    "5. **Cắt chuỗi (slicing)**\n",
    "6. **Tìm kiếm và thay thế trong chuỗi**\n",
    "7. **Tách và ghép chuỗi (split, join)**\n",
    "8. **Định dạng chuỗi (format, f-string)**\n",
    "9. **Kiểm tra thuộc tính chuỗi (isalpha, isdigit, ...)**\n",
    "10. **Thực hành: Bài tập với chuỗi**"
   ]
  },
  {
   "cell_type": "code",
   "execution_count": 1,
   "id": "7aecfde0",
   "metadata": {},
   "outputs": [
    {
     "name": "stdout",
     "output_type": "stream",
     "text": [
      "Chuỗi: Xin chào Python\n",
      "Ký tự đầu: X\n",
      "Ký tự cuối: n\n",
      "Nối chuỗi: Xin chào Python!\n",
      "Lặp chuỗi: Xin chào PythonXin chào Python\n",
      "In hoa: XIN CHÀO PYTHON\n",
      "In thường: xin chào python\n",
      "Đếm 'a': 0\n",
      "Cắt chuỗi [0:7]: Xin chà\n",
      "Vị trí 'Python': 9\n",
      "Thay thế: Xin chào thế giới\n",
      "Tách chuỗi: ['Xin', 'chào', 'Python']\n",
      "Ghép chuỗi: Xin-chào-Python\n",
      "Chào Lan, bạn 20 tuổi.\n",
      "Chào Lan, bạn 20 tuổi.\n",
      "Toàn chữ cái? False\n",
      "Toàn số? False\n",
      "Số từ trong chuỗi: 7\n"
     ]
    }
   ],
   "source": [
    "# 1. Khái niệm về chuỗi (string)\n",
    "s = \"Xin chào Python\"\n",
    "print(\"Chuỗi:\", s)\n",
    "\n",
    "# 2. Tạo và truy cập ký tự trong chuỗi\n",
    "print(\"Ký tự đầu:\", s[0])\n",
    "print(\"Ký tự cuối:\", s[-1])\n",
    "\n",
    "# 3. Nối chuỗi và lặp chuỗi\n",
    "s2 = s + \"!\"  # Nối chuỗi\n",
    "print(\"Nối chuỗi:\", s2)\n",
    "print(\"Lặp chuỗi:\", s * 2)\n",
    "\n",
    "# 4. Các phương thức xử lý chuỗi cơ bản\n",
    "print(\"In hoa:\", s.upper())\n",
    "print(\"In thường:\", s.lower())\n",
    "print(\"Đếm 'a':\", s.count('a'))\n",
    "\n",
    "# 5. Cắt chuỗi (slicing)\n",
    "print(\"Cắt chuỗi [0:7]:\", s[0:7])\n",
    "\n",
    "# 6. Tìm kiếm và thay thế trong chuỗi\n",
    "print(\"Vị trí 'Python':\", s.find(\"Python\"))\n",
    "print(\"Thay thế:\", s.replace(\"Python\", \"thế giới\"))\n",
    "\n",
    "# 7. Tách và ghép chuỗi (split, join)\n",
    "ds = s.split(\" \")\n",
    "print(\"Tách chuỗi:\", ds)\n",
    "print(\"Ghép chuỗi:\", \"-\".join(ds))\n",
    "\n",
    "# 8. Định dạng chuỗi (format, f-string)\n",
    "name = \"Lan\"\n",
    "age = 20\n",
    "print(\"Chào {0}, bạn {1} tuổi.\".format(name, age))\n",
    "print(f\"Chào {name}, bạn {age} tuổi.\")\n",
    "\n",
    "# 9. Kiểm tra thuộc tính chuỗi\n",
    "print(\"Toàn chữ cái?\", s.isalpha())\n",
    "print(\"Toàn số?\", s.isdigit())\n",
    "\n",
    "# 10. Thực hành: Đếm số từ trong chuỗi\n",
    "s3 = \"Python rất dễ học và mạnh mẽ\"\n",
    "so_tu = len(s3.split())\n",
    "print(\"Số từ trong chuỗi:\", so_tu)"
   ]
  }
 ],
 "metadata": {
  "kernelspec": {
   "display_name": "Python 3",
   "language": "python",
   "name": "python3"
  },
  "language_info": {
   "codemirror_mode": {
    "name": "ipython",
    "version": 3
   },
   "file_extension": ".py",
   "mimetype": "text/x-python",
   "name": "python",
   "nbconvert_exporter": "python",
   "pygments_lexer": "ipython3",
   "version": "3.13.3"
  }
 },
 "nbformat": 4,
 "nbformat_minor": 5
}
