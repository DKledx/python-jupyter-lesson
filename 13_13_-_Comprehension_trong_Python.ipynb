{
 "cells": [
  {
   "cell_type": "markdown",
   "id": "1e3a3e80",
   "metadata": {},
   "source": [
    "# Bài học 13: 13 - Comprehension trong Python"
   ]
  },
  {
   "cell_type": "markdown",
   "id": "1f810a28",
   "metadata": {},
   "source": [
    "## Mục tiêu\n",
    "- Hiểu khái niệm cơ bản\n",
    "- Viết được ví dụ minh hoạ\n",
    "- Làm bài tập thực hành"
   ]
  },
  {
   "cell_type": "code",
   "execution_count": null,
   "id": "ae3a6e06",
   "metadata": {},
   "outputs": [],
   "source": [
    "# Viết code Python tại đây"
   ]
  }
 ],
 "metadata": {},
 "nbformat": 4,
 "nbformat_minor": 5
}
