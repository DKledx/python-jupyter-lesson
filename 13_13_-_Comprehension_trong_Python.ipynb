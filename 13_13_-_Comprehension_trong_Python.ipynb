{
 "cells": [
  {
   "cell_type": "markdown",
   "id": "1e3a3e80",
   "metadata": {},
   "source": [
    "# Bài học 13: 13 - Comprehension trong Python"
   ]
  },
  {
   "cell_type": "markdown",
   "id": "1f810a28",
   "metadata": {},
   "source": [
    "## Mục tiêu\n",
    "- Hiểu khái niệm cơ bản\n",
    "- Viết được ví dụ minh hoạ\n",
    "- Làm bài tập thực hành"
   ]
  },
  {
   "cell_type": "markdown",
   "id": "2ae0e261",
   "metadata": {},
   "source": [
    "## Nội dung chính bài học \"Comprehension trong Python\"\n",
    "\n",
    "1. **Khái niệm về comprehension**\n",
    "2. **List comprehension**\n",
    "3. **Set comprehension**\n",
    "4. **Dictionary comprehension**\n",
    "5. **Comprehension với điều kiện**\n",
    "6. **Lồng comprehension**\n",
    "7. **So sánh comprehension và vòng lặp thông thường**\n",
    "8. **Ứng dụng comprehension với hàm**\n",
    "9. **Thực hành: Tạo list, set, dict bằng comprehension**\n",
    "10. **Thực hành: Bài tập tổng hợp comprehension**"
   ]
  },
  {
   "cell_type": "code",
   "execution_count": 1,
   "id": "ae3a6e06",
   "metadata": {},
   "outputs": [
    {
     "name": "stdout",
     "output_type": "stream",
     "text": [
      "List comprehension: [0, 1, 4, 9, 16]\n",
      "Set comprehension: {0, 2, 4}\n",
      "Dict comprehension: {0: 0, 1: 1, 2: 4, 3: 9, 4: 16}\n",
      "List số chẵn: [0, 2, 4, 6, 8]\n",
      "Ma trận 3x3: [[0, 0, 0], [0, 1, 2], [0, 2, 4]]\n",
      "Vòng lặp thường: [0, 1, 4, 9, 16]\n",
      "Tên in hoa: ['AN', 'LAN', 'BINH']\n",
      "Chia hết cho 3: [3, 6, 9, 12, 15, 18]\n",
      "Dict đảo ngược: {1: 'a', 2: 'b', 3: 'c'}\n"
     ]
    }
   ],
   "source": [
    "# 1. Khái niệm về comprehension\n",
    "# Comprehension là cú pháp rút gọn để tạo list, set, dict từ iterable.\n",
    "\n",
    "# 2. List comprehension\n",
    "lst = [x * x for x in range(5)]\n",
    "print(\"List comprehension:\", lst)\n",
    "\n",
    "# 3. Set comprehension\n",
    "st = {x for x in range(5) if x % 2 == 0}\n",
    "print(\"Set comprehension:\", st)\n",
    "\n",
    "# 4. Dictionary comprehension\n",
    "dct = {x: x * x for x in range(5)}\n",
    "print(\"Dict comprehension:\", dct)\n",
    "\n",
    "# 5. Comprehension với điều kiện\n",
    "lst_chan = [x for x in range(10) if x % 2 == 0]\n",
    "print(\"List số chẵn:\", lst_chan)\n",
    "\n",
    "# 6. Lồng comprehension\n",
    "matran = [[i * j for j in range(3)] for i in range(3)]\n",
    "print(\"Ma trận 3x3:\", matran)\n",
    "\n",
    "# 7. So sánh với vòng lặp thông thường\n",
    "lst2 = []\n",
    "for x in range(5):\n",
    "    lst2.append(x * x)\n",
    "print(\"Vòng lặp thường:\", lst2)\n",
    "\n",
    "# 8. Ứng dụng comprehension với hàm\n",
    "names = [\"an\", \"lan\", \"binh\"]\n",
    "names_upper = [name.upper() for name in names]\n",
    "print(\"Tên in hoa:\", names_upper)\n",
    "\n",
    "# 9. Thực hành: Tạo list các số chia hết cho 3 từ 1 đến 20\n",
    "lst3 = [x for x in range(1, 21) if x % 3 == 0]\n",
    "print(\"Chia hết cho 3:\", lst3)\n",
    "\n",
    "# 10. Thực hành: Đảo ngược key và value của dict\n",
    "d = {\"a\": 1, \"b\": 2, \"c\": 3}\n",
    "d_reverse = {v: k for k, v in d.items()}\n",
    "print(\"Dict đảo ngược:\", d_reverse)"
   ]
  }
 ],
 "metadata": {
  "kernelspec": {
   "display_name": "Python 3",
   "language": "python",
   "name": "python3"
  },
  "language_info": {
   "codemirror_mode": {
    "name": "ipython",
    "version": 3
   },
   "file_extension": ".py",
   "mimetype": "text/x-python",
   "name": "python",
   "nbconvert_exporter": "python",
   "pygments_lexer": "ipython3",
   "version": "3.13.3"
  }
 },
 "nbformat": 4,
 "nbformat_minor": 5
}
