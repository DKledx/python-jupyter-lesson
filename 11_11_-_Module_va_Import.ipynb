{
 "cells": [
  {
   "cell_type": "markdown",
   "id": "4dbf63f1",
   "metadata": {},
   "source": [
    "# Bài học 11: 11 - Module và Import"
   ]
  },
  {
   "cell_type": "markdown",
   "id": "9bf0f72a",
   "metadata": {},
   "source": [
    "## Mục tiêu\n",
    "- Hiểu khái niệm cơ bản\n",
    "- Viết được ví dụ minh hoạ\n",
    "- Làm bài tập thực hành"
   ]
  },
  {
   "cell_type": "markdown",
   "id": "29fc27e0",
   "metadata": {},
   "source": [
    "## Nội dung chính bài học \"Module và Import\" trong Python\n",
    "\n",
    "1. **Khái niệm về module**\n",
    "2. **Tạo và sử dụng module tự tạo**\n",
    "3. **Import module có sẵn trong Python**\n",
    "4. **Import một phần của module**\n",
    "5. **Đặt bí danh (alias) cho module**\n",
    "6. **Tìm hiểu thư mục chứa module**\n",
    "7. **Cài đặt và import module ngoài (pip)**\n",
    "8. **Kiểm tra các thuộc tính của module**\n",
    "9. **Thực hành: Tạo module và sử dụng**\n",
    "10. **Thực hành: Sử dụng module chuẩn**"
   ]
  },
  {
   "cell_type": "code",
   "execution_count": 1,
   "id": "3121f539",
   "metadata": {},
   "outputs": [
    {
     "name": "stdout",
     "output_type": "stream",
     "text": [
      "Căn bậc hai của 16: 4.0\n",
      "Số pi: 3.141592653589793\n",
      "Cos 0: 1.0\n",
      "Thư mục tìm module: ['c:\\\\Users\\\\Admin\\\\AppData\\\\Local\\\\Programs\\\\Python\\\\Python313\\\\python313.zip', 'c:\\\\Users\\\\Admin\\\\AppData\\\\Local\\\\Programs\\\\Python\\\\Python313\\\\DLLs', 'c:\\\\Users\\\\Admin\\\\AppData\\\\Local\\\\Programs\\\\Python\\\\Python313\\\\Lib', 'c:\\\\Users\\\\Admin\\\\AppData\\\\Local\\\\Programs\\\\Python\\\\Python313', '', 'c:\\\\Users\\\\Admin\\\\AppData\\\\Local\\\\Programs\\\\Python\\\\Python313\\\\Lib\\\\site-packages', 'c:\\\\Users\\\\Admin\\\\AppData\\\\Local\\\\Programs\\\\Python\\\\Python313\\\\Lib\\\\site-packages\\\\win32', 'c:\\\\Users\\\\Admin\\\\AppData\\\\Local\\\\Programs\\\\Python\\\\Python313\\\\Lib\\\\site-packages\\\\win32\\\\lib', 'c:\\\\Users\\\\Admin\\\\AppData\\\\Local\\\\Programs\\\\Python\\\\Python313\\\\Lib\\\\site-packages\\\\Pythonwin']\n",
      "Các thuộc tính của math: ['__doc__', '__loader__', '__name__', '__package__', '__spec__', 'acos', 'acosh', 'asin', 'asinh', 'atan', 'atan2', 'atanh', 'cbrt', 'ceil', 'comb', 'copysign', 'cos', 'cosh', 'degrees', 'dist', 'e', 'erf', 'erfc', 'exp', 'exp2', 'expm1', 'fabs', 'factorial', 'floor', 'fma', 'fmod', 'frexp', 'fsum', 'gamma', 'gcd', 'hypot', 'inf', 'isclose', 'isfinite', 'isinf', 'isnan', 'isqrt', 'lcm', 'ldexp', 'lgamma', 'log', 'log10', 'log1p', 'log2', 'modf', 'nan', 'nextafter', 'perm', 'pi', 'pow', 'prod', 'radians', 'remainder', 'sin', 'sinh', 'sqrt', 'sumprod', 'tan', 'tanh', 'tau', 'trunc', 'ulp']\n",
      "Số ngẫu nhiên từ 1 đến 10: 10\n"
     ]
    }
   ],
   "source": [
    "# 1. Khái niệm về module\n",
    "# Module là file chứa các hàm, biến, class... để tái sử dụng.\n",
    "\n",
    "# 2. Tạo và sử dụng module tự tạo\n",
    "# Giả sử có file mymodule.py với hàm hello()\n",
    "# from mymodule import hello\n",
    "# hello()\n",
    "\n",
    "# 3. Import module có sẵn trong Python\n",
    "import math\n",
    "print(\"Căn bậc hai của 16:\", math.sqrt(16))\n",
    "\n",
    "# 4. Import một phần của module\n",
    "from math import pi\n",
    "print(\"Số pi:\", pi)\n",
    "\n",
    "# 5. Đặt bí danh (alias) cho module\n",
    "import math as m\n",
    "print(\"Cos 0:\", m.cos(0))\n",
    "\n",
    "# 6. Tìm hiểu thư mục chứa module\n",
    "import sys\n",
    "print(\"Thư mục tìm module:\", sys.path)\n",
    "\n",
    "# 7. Cài đặt và import module ngoài (pip)\n",
    "# Ví dụ: pip install requests\n",
    "# import requests\n",
    "\n",
    "# 8. Kiểm tra các thuộc tính của module\n",
    "print(\"Các thuộc tính của math:\", dir(math))\n",
    "\n",
    "# 9. Thực hành: Tạo module và sử dụng\n",
    "# Tạo file mymath.py với hàm cong(a, b)\n",
    "# from mymath import cong\n",
    "# print(\"Tổng:\", cong(2, 3))\n",
    "\n",
    "# 10. Thực hành: Sử dụng module chuẩn\n",
    "import random\n",
    "print(\"Số ngẫu nhiên từ 1 đến 10:\", random.randint(1, 10))"
   ]
  }
 ],
 "metadata": {
  "kernelspec": {
   "display_name": "Python 3",
   "language": "python",
   "name": "python3"
  },
  "language_info": {
   "codemirror_mode": {
    "name": "ipython",
    "version": 3
   },
   "file_extension": ".py",
   "mimetype": "text/x-python",
   "name": "python",
   "nbconvert_exporter": "python",
   "pygments_lexer": "ipython3",
   "version": "3.13.3"
  }
 },
 "nbformat": 4,
 "nbformat_minor": 5
}
