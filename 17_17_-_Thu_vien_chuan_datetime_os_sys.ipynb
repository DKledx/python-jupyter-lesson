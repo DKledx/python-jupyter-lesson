{
 "cells": [
  {
   "cell_type": "markdown",
   "id": "69379498",
   "metadata": {},
   "source": [
    "# Bài học 17: 17 - Thư viện chuẩn: datetime, os, sys"
   ]
  },
  {
   "cell_type": "markdown",
   "id": "239ab5f7",
   "metadata": {},
   "source": [
    "## Mục tiêu\n",
    "- Hiểu khái niệm cơ bản\n",
    "- Viết được ví dụ minh hoạ\n",
    "- Làm bài tập thực hành"
   ]
  },
  {
   "cell_type": "code",
   "execution_count": null,
   "id": "ec1a7bf2",
   "metadata": {},
   "outputs": [],
   "source": [
    "# Viết code Python tại đây"
   ]
  }
 ],
 "metadata": {},
 "nbformat": 4,
 "nbformat_minor": 5
}
