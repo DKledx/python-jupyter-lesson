{
 "cells": [
  {
   "cell_type": "markdown",
   "id": "a03c17f7",
   "metadata": {},
   "source": [
    "# Bài học 6: 6 - List và Tuple"
   ]
  },
  {
   "cell_type": "markdown",
   "id": "4fc533a5",
   "metadata": {},
   "source": [
    "## Mục tiêu\n",
    "- Hiểu khái niệm cơ bản\n",
    "- Viết được ví dụ minh hoạ\n",
    "- Làm bài tập thực hành"
   ]
  },
  {
   "cell_type": "markdown",
   "id": "781f9f00",
   "metadata": {},
   "source": [
    "## Nội dung chính bài học \"List và Tuple\" trong Python\n",
    "\n",
    "1. **Khái niệm về List**\n",
    "2. **Tạo và truy cập phần tử List**\n",
    "3. **Các thao tác cơ bản với List (thêm, xóa, sửa)**\n",
    "4. **Duyệt List bằng vòng lặp**\n",
    "5. **Các phương thức phổ biến của List**\n",
    "6. **Khái niệm về Tuple**\n",
    "7. **Tạo và truy cập phần tử Tuple**\n",
    "8. **So sánh List và Tuple**\n",
    "9. **Tuple lồng nhau và unpacking**\n",
    "10. **Thực hành: Bài tập với List và Tuple**"
   ]
  },
  {
   "cell_type": "code",
   "execution_count": 1,
   "id": "e7a1a5b3",
   "metadata": {},
   "outputs": [
    {
     "name": "stdout",
     "output_type": "stream",
     "text": [
      "List: [1, 2, 3, 4]\n",
      "Phần tử đầu tiên: 1\n",
      "Phần tử cuối cùng: 4\n",
      "Sau append: [1, 2, 3, 4, 5]\n",
      "Sau sửa: [1, 20, 3, 4, 5]\n",
      "Sau remove: [1, 20, 4, 5]\n",
      "Phần tử: 1\n",
      "Phần tử: 20\n",
      "Phần tử: 4\n",
      "Phần tử: 5\n",
      "Độ dài: 4\n",
      "Max: 20\n",
      "Min: 1\n",
      "Sau sort: [1, 4, 5, 20]\n",
      "Tuple: (10, 20, 30)\n",
      "Phần tử đầu tiên của tuple: 10\n",
      "Không thể thay đổi tuple!\n",
      "Unpacking: 10 20 30\n",
      "Tổng list: 30\n",
      "Tổng tuple: 60\n"
     ]
    }
   ],
   "source": [
    "# 1. Khái niệm về List\n",
    "ds = [1, 2, 3, 4]\n",
    "print(\"List:\", ds)\n",
    "\n",
    "# 2. Tạo và truy cập phần tử List\n",
    "print(\"Phần tử đầu tiên:\", ds[0])\n",
    "print(\"Phần tử cuối cùng:\", ds[-1])\n",
    "\n",
    "# 3. Các thao tác cơ bản với List (thêm, xóa, sửa)\n",
    "ds.append(5)         # Thêm phần tử\n",
    "print(\"Sau append:\", ds)\n",
    "ds[1] = 20           # Sửa phần tử\n",
    "print(\"Sau sửa:\", ds)\n",
    "ds.remove(3)         # Xóa phần tử\n",
    "print(\"Sau remove:\", ds)\n",
    "\n",
    "# 4. Duyệt List bằng vòng lặp\n",
    "for x in ds:\n",
    "    print(\"Phần tử:\", x)\n",
    "\n",
    "# 5. Các phương thức phổ biến của List\n",
    "print(\"Độ dài:\", len(ds))\n",
    "print(\"Max:\", max(ds))\n",
    "print(\"Min:\", min(ds))\n",
    "ds.sort()\n",
    "print(\"Sau sort:\", ds)\n",
    "\n",
    "# 6. Khái niệm về Tuple\n",
    "tp = (10, 20, 30)\n",
    "print(\"Tuple:\", tp)\n",
    "\n",
    "# 7. Tạo và truy cập phần tử Tuple\n",
    "print(\"Phần tử đầu tiên của tuple:\", tp[0])\n",
    "\n",
    "# 8. So sánh List và Tuple\n",
    "# List có thể thay đổi, Tuple thì không\n",
    "try:\n",
    "    tp[1] = 99  # Sẽ báo lỗi\n",
    "except TypeError:\n",
    "    print(\"Không thể thay đổi tuple!\")\n",
    "\n",
    "# 9. Tuple lồng nhau và unpacking\n",
    "tp2 = (1, (2, 3), 4)\n",
    "a, b, c = tp\n",
    "print(\"Unpacking:\", a, b, c)\n",
    "\n",
    "# 10. Thực hành: Bài tập với List và Tuple\n",
    "# Tính tổng các phần tử trong list và tuple\n",
    "print(\"Tổng list:\", sum(ds))\n",
    "print(\"Tổng tuple:\", sum(tp))"
   ]
  }
 ],
 "metadata": {
  "kernelspec": {
   "display_name": "Python 3",
   "language": "python",
   "name": "python3"
  },
  "language_info": {
   "codemirror_mode": {
    "name": "ipython",
    "version": 3
   },
   "file_extension": ".py",
   "mimetype": "text/x-python",
   "name": "python",
   "nbconvert_exporter": "python",
   "pygments_lexer": "ipython3",
   "version": "3.13.3"
  }
 },
 "nbformat": 4,
 "nbformat_minor": 5
}
