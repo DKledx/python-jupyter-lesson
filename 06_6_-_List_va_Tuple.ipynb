{
 "cells": [
  {
   "cell_type": "markdown",
   "id": "bda7b563",
   "metadata": {},
   "source": [
    "# Bài học 6: 6 - List và Tuple"
   ]
  },
  {
   "cell_type": "markdown",
   "id": "4fc533a5",
   "metadata": {},
   "source": [
    "## Mục tiêu\n",
    "- Hiểu khái niệm cơ bản\n",
    "- Viết được ví dụ minh hoạ\n",
    "- Làm bài tập thực hành"
   ]
  },
  {
   "cell_type": "code",
   "execution_count": null,
   "id": "e7a1a5b3",
   "metadata": {},
   "outputs": [],
   "source": [
    "# Viết code Python tại đây"
   ]
  }
 ],
 "metadata": {},
 "nbformat": 4,
 "nbformat_minor": 5
}
