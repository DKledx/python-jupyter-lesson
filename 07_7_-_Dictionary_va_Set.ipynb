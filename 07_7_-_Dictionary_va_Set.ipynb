{
 "cells": [
  {
   "cell_type": "markdown",
   "id": "396a9521",
   "metadata": {},
   "source": [
    "# Bài học 7: 7 - Dictionary và Set"
   ]
  },
  {
   "cell_type": "markdown",
   "id": "775d0229",
   "metadata": {},
   "source": [
    "## Mục tiêu\n",
    "- Hiểu khái niệm cơ bản\n",
    "- Viết được ví dụ minh hoạ\n",
    "- Làm bài tập thực hành"
   ]
  },
  {
   "cell_type": "code",
   "execution_count": null,
   "id": "63de9ebc",
   "metadata": {},
   "outputs": [],
   "source": [
    "# Viết code Python tại đây"
   ]
  }
 ],
 "metadata": {},
 "nbformat": 4,
 "nbformat_minor": 5
}
