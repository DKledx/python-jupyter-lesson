{
 "cells": [
  {
   "cell_type": "markdown",
   "id": "396a9521",
   "metadata": {},
   "source": [
    "# Bài học 7: 7 - Dictionary và Set"
   ]
  },
  {
   "cell_type": "markdown",
   "id": "775d0229",
   "metadata": {},
   "source": [
    "## Mục tiêu\n",
    "- Hiểu khái niệm cơ bản\n",
    "- Viết được ví dụ minh hoạ\n",
    "- Làm bài tập thực hành"
   ]
  },
  {
   "cell_type": "markdown",
   "id": "1f0f9aed",
   "metadata": {},
   "source": [
    "## Nội dung chính bài học \"Dictionary và Set\" trong Python\n",
    "\n",
    "1. **Khái niệm về Dictionary**\n",
    "2. **Tạo và truy cập phần tử Dictionary**\n",
    "3. **Các thao tác cơ bản với Dictionary (thêm, xóa, sửa)**\n",
    "4. **Duyệt Dictionary bằng vòng lặp**\n",
    "5. **Các phương thức phổ biến của Dictionary**\n",
    "6. **Khái niệm về Set**\n",
    "7. **Tạo và truy cập phần tử Set**\n",
    "8. **Các thao tác cơ bản với Set (thêm, xóa, kiểm tra)**\n",
    "9. **Các phép toán tập hợp với Set**\n",
    "10. **Thực hành: Bài tập với Dictionary và Set**"
   ]
  },
  {
   "cell_type": "code",
   "execution_count": null,
   "id": "8f6ce5d8",
   "metadata": {},
   "outputs": [],
   "source": [
    "# 1. Khái niệm về Dictionary\n",
    "d = {\"ten\": \"An\", \"tuoi\": 20}\n",
    "print(\"Dictionary:\", d)\n",
    "\n",
    "# 2. Tạo và truy cập phần tử Dictionary\n",
    "print(\"Tên:\", d[\"ten\"])\n",
    "print(\"Tuổi:\", d.get(\"tuoi\"))\n",
    "\n",
    "# 3. Các thao tác cơ bản với Dictionary (thêm, xóa, sửa)\n",
    "d[\"lop\"] = \"Python\"      # Thêm\n",
    "print(\"Sau thêm:\", d)\n",
    "d[\"tuoi\"] = 21           # Sửa\n",
    "print(\"Sau sửa:\", d)\n",
    "del d[\"ten\"]             # Xóa\n",
    "print(\"Sau xóa:\", d)\n",
    "\n",
    "# 4. Duyệt Dictionary bằng vòng lặp\n",
    "for key in d:\n",
    "    print(\"Key:\", key, \"Value:\", d[key])\n",
    "\n",
    "# 5. Các phương thức phổ biến của Dictionary\n",
    "print(\"Keys:\", list(d.keys()))\n",
    "print(\"Values:\", list(d.values()))\n",
    "print(\"Items:\", list(d.items()))\n",
    "\n",
    "# 6. Khái niệm về Set\n",
    "s = {1, 2, 3, 4}\n",
    "print(\"Set:\", s)\n",
    "\n",
    "# 7. Tạo và truy cập phần tử Set\n",
    "print(\"Có 2 trong set không?\", 2 in s)\n",
    "\n",
    "# 8. Các thao tác cơ bản với Set (thêm, xóa, kiểm tra)\n",
    "s.add(5)\n",
    "print(\"Sau add:\", s)\n",
    "s.remove(3)\n",
    "print(\"Sau remove:\", s)\n",
    "print(\"Có 10 trong set không?\", 10 in s)\n",
    "\n",
    "# 9. Các phép toán tập hợp với Set\n",
    "s2 = {3, 4, 5, 6}\n",
    "print(\"Union:\", s | s2)\n",
    "print(\"Intersection:\", s & s2)\n",
    "print(\"Difference:\", s - s2)\n",
    "\n",
    "# 10. Thực hành: Bài tập với Dictionary và Set\n",
    "# Đếm số lần xuất hiện của từng ký tự trong chuỗi\n",
    "chuoi = \"banana\"\n",
    "dem = {}\n",
    "for c in chuoi:\n",
    "    dem[c] = dem.get(c, 0) + 1\n",
    "print(\"Số lần xuất hiện:\", dem)\n",
    "\n",
    "# Tìm các phần tử chung của hai list\n",
    "a = [1, 2, 3, 4]\n",
    "b = [3, 4, 5, 6]\n",
    "print(\"Phần tử chung:\", set(a) & set(b))"
   ]
  }
 ],
 "metadata": {
  "language_info": {
   "name": "python"
  }
 },
 "nbformat": 4,
 "nbformat_minor": 5
}
