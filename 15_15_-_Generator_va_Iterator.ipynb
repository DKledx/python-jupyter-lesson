{
 "cells": [
  {
   "cell_type": "markdown",
   "id": "00a1624b",
   "metadata": {},
   "source": [
    "# Bài học 15: 15 - Generator và Iterator"
   ]
  },
  {
   "cell_type": "markdown",
   "id": "a784d080",
   "metadata": {},
   "source": [
    "## Mục tiêu\n",
    "- Hiểu khái niệm cơ bản\n",
    "- Viết được ví dụ minh hoạ\n",
    "- Làm bài tập thực hành"
   ]
  },
  {
   "cell_type": "code",
   "execution_count": null,
   "id": "6b358b5d",
   "metadata": {},
   "outputs": [],
   "source": [
    "# Viết code Python tại đây"
   ]
  }
 ],
 "metadata": {},
 "nbformat": 4,
 "nbformat_minor": 5
}
