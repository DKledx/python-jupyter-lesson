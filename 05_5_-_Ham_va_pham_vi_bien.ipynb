{
 "cells": [
  {
   "cell_type": "markdown",
   "id": "78d3c3b7",
   "metadata": {},
   "source": [
    "# Bài học 5: 5 - Hàm và phạm vi biến"
   ]
  },
  {
   "cell_type": "markdown",
   "id": "aadd8675",
   "metadata": {},
   "source": [
    "## Mục tiêu\n",
    "- Hiểu khái niệm cơ bản\n",
    "- Viết được ví dụ minh hoạ\n",
    "- Làm bài tập thực hành"
   ]
  },
  {
   "cell_type": "code",
   "execution_count": null,
   "id": "245bb2ff",
   "metadata": {},
   "outputs": [],
   "source": [
    "# Viết code Python tại đây"
   ]
  }
 ],
 "metadata": {},
 "nbformat": 4,
 "nbformat_minor": 5
}
