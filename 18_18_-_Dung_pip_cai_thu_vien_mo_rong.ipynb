{
 "cells": [
  {
   "cell_type": "markdown",
   "id": "cd1ed063",
   "metadata": {},
   "source": [
    "# Bài học 18: 18 - Dùng pip cài thư viện mở rộng"
   ]
  },
  {
   "cell_type": "markdown",
   "id": "7b2e3468",
   "metadata": {},
   "source": [
    "## Mục tiêu\n",
    "- Hiểu khái niệm cơ bản\n",
    "- Viết được ví dụ minh hoạ\n",
    "- Làm bài tập thực hành"
   ]
  },
  {
   "cell_type": "markdown",
   "id": "5d23e225",
   "metadata": {},
   "source": [
    "## Nội dung chính bài học \"Dùng pip cài thư viện mở rộng\" trong Python\n",
    "\n",
    "1. **Khái niệm về pip và thư viện mở rộng**\n",
    "2. **Cách kiểm tra pip đã cài đặt**\n",
    "3. **Cài đặt thư viện bằng pip**\n",
    "4. **Gỡ bỏ thư viện bằng pip**\n",
    "5. **Cập nhật thư viện bằng pip**\n",
    "6. **Tìm kiếm thư viện trên PyPI**\n",
    "7. **Import và sử dụng thư viện đã cài**\n",
    "8. **Quản lý nhiều thư viện với requirements.txt**\n",
    "9. **Thực hành: Cài và sử dụng thư viện requests**\n",
    "10. **Thực hành: Cài và sử dụng thư viện numpy**"
   ]
  },
  {
   "cell_type": "code",
   "execution_count": null,
   "id": "59db1724",
   "metadata": {},
   "outputs": [],
   "source": [
    "# 1. Kiểm tra pip đã cài đặt (chạy trong terminal, không phải trong notebook)\n",
    "# !pip --version\n",
    "\n",
    "# 2. Cài đặt thư viện (chạy trong notebook hoặc terminal)\n",
    "# !pip install requests\n",
    "\n",
    "# 3. Import và sử dụng thư viện requests\n",
    "import requests\n",
    "response = requests.get(\"https://api.github.com\")\n",
    "print(\"Status code:\", response.status_code)\n",
    "\n",
    "# 4. Cài đặt và sử dụng numpy\n",
    "# !pip install numpy\n",
    "import numpy as np\n",
    "arr = np.array([1, 2, 3])\n",
    "print(\"Mảng numpy:\", arr)\n",
    "\n",
    "# 5. Gỡ bỏ thư viện (chạy trong terminal)\n",
    "# !pip uninstall requests\n",
    "\n",
    "# 6. Quản lý nhiều thư viện với requirements.txt\n",
    "# Tạo file requirements.txt với nội dung:\n",
    "# requests\n",
    "# numpy\n",
    "# Sau đó cài bằng: !pip install -r requirements.txt"
   ]
  }
 ],
 "metadata": {
  "language_info": {
   "name": "python"
  }
 },
 "nbformat": 4,
 "nbformat_minor": 5
}
