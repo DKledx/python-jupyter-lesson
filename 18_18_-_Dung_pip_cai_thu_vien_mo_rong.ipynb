{
 "cells": [
  {
   "cell_type": "markdown",
   "id": "cd1ed063",
   "metadata": {},
   "source": [
    "# Bài học 18: 18 - Dùng pip cài thư viện mở rộng"
   ]
  },
  {
   "cell_type": "markdown",
   "id": "7b2e3468",
   "metadata": {},
   "source": [
    "## Mục tiêu\n",
    "- Hiểu khái niệm cơ bản\n",
    "- Viết được ví dụ minh hoạ\n",
    "- Làm bài tập thực hành"
   ]
  },
  {
   "cell_type": "code",
   "execution_count": null,
   "id": "59db1724",
   "metadata": {},
   "outputs": [],
   "source": [
    "# Viết code Python tại đây"
   ]
  }
 ],
 "metadata": {},
 "nbformat": 4,
 "nbformat_minor": 5
}
