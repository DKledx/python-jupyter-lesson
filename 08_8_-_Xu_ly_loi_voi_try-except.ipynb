{
 "cells": [
  {
   "cell_type": "markdown",
   "id": "30c9a830",
   "metadata": {},
   "source": [
    "# Bài học 8: 8 - Xử lý lỗi với try-except"
   ]
  },
  {
   "cell_type": "markdown",
   "id": "25cab4b3",
   "metadata": {},
   "source": [
    "## Mục tiêu\n",
    "- Hiểu khái niệm cơ bản\n",
    "- Viết được ví dụ minh hoạ\n",
    "- Làm bài tập thực hành"
   ]
  },
  {
   "cell_type": "code",
   "execution_count": null,
   "id": "99dc9562",
   "metadata": {},
   "outputs": [],
   "source": [
    "# Viết code Python tại đây"
   ]
  }
 ],
 "metadata": {},
 "nbformat": 4,
 "nbformat_minor": 5
}
