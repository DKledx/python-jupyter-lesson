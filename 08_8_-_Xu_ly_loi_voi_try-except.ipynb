{
 "cells": [
  {
   "cell_type": "markdown",
   "id": "30c9a830",
   "metadata": {},
   "source": [
    "# Bài học 8: 8 - Xử lý lỗi với try-except"
   ]
  },
  {
   "cell_type": "markdown",
   "id": "25cab4b3",
   "metadata": {},
   "source": [
    "## Mục tiêu\n",
    "- Hiểu khái niệm cơ bản\n",
    "- Viết được ví dụ minh hoạ\n",
    "- Làm bài tập thực hành"
   ]
  },
  {
   "cell_type": "markdown",
   "id": "408934bd",
   "metadata": {},
   "source": [
    "## Nội dung chính bài học \"Hàm nâng cao và lập trình hàm\" trong Python\n",
    "\n",
    "1. **Hàm lambda**\n",
    "2. **Hàm map**\n",
    "3. **Hàm filter**\n",
    "4. **Hàm reduce**\n",
    "5. **Hàm zip**\n",
    "6. **Hàm enumerate**\n",
    "7. **List comprehension**\n",
    "8. **Generator và yield**\n",
    "9. **Hàm trong hàm (Higher-order function)**\n",
    "10. **Thực hành: Ứng dụng các hàm nâng cao**"
   ]
  },
  {
   "cell_type": "code",
   "execution_count": null,
   "id": "99dc9562",
   "metadata": {},
   "outputs": [],
   "source": [
    "# 1. Hàm lambda\n",
    "f = lambda x: x * x\n",
    "print(\"Bình phương 5:\", f(5))\n",
    "\n",
    "# 2. Hàm map\n",
    "lst = [1, 2, 3, 4]\n",
    "lst2 = list(map(lambda x: x * 2, lst))\n",
    "print(\"Map x2:\", lst2)\n",
    "\n",
    "# 3. Hàm filter\n",
    "lst3 = list(filter(lambda x: x % 2 == 0, lst))\n",
    "print(\"Filter chẵn:\", lst3)\n",
    "\n",
    "# 4. Hàm reduce\n",
    "from functools import reduce\n",
    "tong = reduce(lambda x, y: x + y, lst)\n",
    "print(\"Reduce tổng:\", tong)\n",
    "\n",
    "# 5. Hàm zip\n",
    "a = [1, 2, 3]\n",
    "b = ['a', 'b', 'c']\n",
    "z = list(zip(a, b))\n",
    "print(\"Zip:\", z)\n",
    "\n",
    "# 6. Hàm enumerate\n",
    "for idx, val in enumerate(lst):\n",
    "    print(f\"Index {idx}: Value {val}\")\n",
    "\n",
    "# 7. List comprehension\n",
    "lst4 = [x * x for x in range(5)]\n",
    "print(\"List comprehension:\", lst4)\n",
    "\n",
    "# 8. Generator và yield\n",
    "def gen():\n",
    "    for i in range(3):\n",
    "        yield i\n",
    "for val in gen():\n",
    "    print(\"Generator:\", val)\n",
    "\n",
    "# 9. Hàm trong hàm (Higher-order function)\n",
    "def apply_func(f, value):\n",
    "    return f(value)\n",
    "print(\"Apply func:\", apply_func(lambda x: x + 10, 5))\n",
    "\n",
    "# 10. Thực hành: Tính tổng bình phương các số chẵn trong list\n",
    "lst5 = [1, 2, 3, 4, 5, 6]\n",
    "result = sum([x * x for x in lst5 if x % 2 == 0])\n",
    "print(\"Tổng bình phương số chẵn:\", result)"
   ]
  }
 ],
 "metadata": {
  "language_info": {
   "name": "python"
  }
 },
 "nbformat": 4,
 "nbformat_minor": 5
}
