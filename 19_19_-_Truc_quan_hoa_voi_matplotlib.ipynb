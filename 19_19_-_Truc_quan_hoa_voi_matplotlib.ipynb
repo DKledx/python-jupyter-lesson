{
 "cells": [
  {
   "cell_type": "markdown",
   "id": "0428f892",
   "metadata": {},
   "source": [
    "# Bài học 19: 19 - Trực quan hoá với matplotlib"
   ]
  },
  {
   "cell_type": "markdown",
   "id": "445c4bd3",
   "metadata": {},
   "source": [
    "## Mục tiêu\n",
    "- Hiểu khái niệm cơ bản\n",
    "- Viết được ví dụ minh hoạ\n",
    "- Làm bài tập thực hành"
   ]
  },
  {
   "cell_type": "code",
   "execution_count": null,
   "id": "3fc056f1",
   "metadata": {},
   "outputs": [],
   "source": [
    "# Viết code Python tại đây"
   ]
  }
 ],
 "metadata": {},
 "nbformat": 4,
 "nbformat_minor": 5
}
